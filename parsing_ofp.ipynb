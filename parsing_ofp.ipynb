{
 "cells": [
  {
   "cell_type": "code",
   "execution_count": 1,
   "id": "4e772dc7",
   "metadata": {},
   "outputs": [],
   "source": [
    "import pandas as pd\n",
    "import numpy as np\n",
    "import os\n",
    "import shutil\n",
    "from subprocess import call, run\n",
    "import json\n",
    "\n",
    "import matplotlib.pyplot as plt\n",
    "import seaborn as sns\n",
    "\n",
    "from scipy.optimize import curve_fit\n",
    "\n",
    "import sys\n",
    "sys.path.append('/home/sirius/00_ikt/данные для начала работы/swapDirections_example')\n",
    "import DRA_utils_v2 as dra\n",
    "\n",
    "def parse_params(fpath):\n",
    "    \"\"\"\n",
    "    fpath : str (path to the file to parse)\n",
    "    ------\n",
    "    returns: {'total_porosity': value, 'absolute_permeability' : value, 'formation_factor': value} \n",
    "    \n",
    "    \"\"\"\n",
    "    lines = []\n",
    "    with open(fpath) as f:\n",
    "        lines = f.readlines()\n",
    "    for line in lines:\n",
    "        if 'Total porosity' in line :\n",
    "            total_porosity = float(line.split()[-1])\n",
    "        if 'Absolute permeability' in line:\n",
    "            absolute_permeability = float(line.split()[-2])\n",
    "        if 'Formation factor' in line:\n",
    "            formation_factor = float(line.split()[-1])\n",
    "            \n",
    "    return {'total_porosity': total_porosity, 'absolute_permeability' : absolute_permeability, 'formation_factor': formation_factor}"
   ]
  },
  {
   "cell_type": "markdown",
   "id": "e9a6ed79",
   "metadata": {},
   "source": [
    "### Блок обмена осей"
   ]
  },
  {
   "cell_type": "code",
   "execution_count": 3,
   "id": "7e0b98b7",
   "metadata": {},
   "outputs": [
    {
     "name": "stdout",
     "output_type": "stream",
     "text": [
      "Ketton_1000c_3p00006um.mhd\n",
      "15.mhd\n",
      "10.mhd\n",
      "25.mhd\n",
      "9.mhd\n",
      "0.mhd\n",
      "5.mhd\n",
      "12.mhd\n",
      "21.mhd\n",
      "26.mhd\n",
      "2.mhd\n",
      "16.mhd\n",
      "22.mhd\n",
      "7.mhd\n",
      "24.mhd\n",
      "6.mhd\n",
      "23.mhd\n",
      "14.mhd\n",
      "17.mhd\n",
      "4.mhd\n",
      "20.mhd\n",
      "8.mhd\n",
      "11.mhd\n",
      "18.mhd\n",
      "13.mhd\n",
      "19.mhd\n",
      "1.mhd\n",
      "3.mhd\n"
     ]
    }
   ],
   "source": [
    "path = '/home/sirius/00_ikt/data_parsing/carbonate'\n",
    "\n",
    "for root, dirs, files in os.walk(path):\n",
    "    for direc in dirs:\n",
    "        if direc != 'data':\n",
    "            new_path = os.path.join(root, direc)\n",
    "\n",
    "            for _, _, files in os.walk(new_path):\n",
    "                for file in files:\n",
    "#                     Проходимся по всем файлам с расширением .mhd и меняем ось, сохраняя новые файлы\n",
    "                    if (file.endswith('.mhd')) and ('_VElems' not in file):\n",
    "                        print(file)\n",
    "                        filename = file.replace('.mhd', '')\n",
    "                        dra.swapDirections(new_path + f'/{file}', new_path + f'/{filename}_swapXY.mhd', 'XY')\n",
    "                        dra.swapDirections(new_path + f'/{file}', new_path + f'/{filename}_swapXZ.mhd', 'XZ')"
   ]
  },
  {
   "cell_type": "markdown",
   "id": "e380fafd",
   "metadata": {},
   "source": [
    "### Блок симуляции через солвер"
   ]
  },
  {
   "cell_type": "code",
   "execution_count": 2,
   "id": "be5479ca",
   "metadata": {
    "scrolled": false
   },
   "outputs": [
    {
     "name": "stdout",
     "output_type": "stream",
     "text": [
      "Ketton_1000c_3p00006um.mhd\n"
     ]
    },
    {
     "name": "stderr",
     "output_type": "stream",
     "text": [
      "Killed\n"
     ]
    },
    {
     "name": "stdout",
     "output_type": "stream",
     "text": [
      "Ketton_1000c_3p00006um_swapXZ.mhd\n"
     ]
    },
    {
     "name": "stderr",
     "output_type": "stream",
     "text": [
      "Killed\n"
     ]
    },
    {
     "name": "stdout",
     "output_type": "stream",
     "text": [
      "Ketton_1000c_3p00006um_swapXY.mhd\n"
     ]
    },
    {
     "name": "stderr",
     "output_type": "stream",
     "text": [
      "Killed\n"
     ]
    },
    {
     "name": "stdout",
     "output_type": "stream",
     "text": [
      "15.mhd\n",
      "10.mhd\n",
      "25.mhd\n",
      "9.mhd\n",
      "0.mhd\n",
      "5.mhd\n",
      "8_swapXZ.mhd\n",
      "12.mhd\n",
      "23_swapXY.mhd\n",
      "21.mhd\n",
      "26.mhd\n",
      "11_swapXZ.mhd\n",
      "2.mhd\n",
      "24_swapXY.mhd\n",
      "16.mhd\n",
      "8_swapXY.mhd\n",
      "12_swapXZ.mhd\n",
      "0_swapXZ.mhd\n",
      "22.mhd\n",
      "20_swapXZ.mhd\n",
      "22_swapXZ.mhd\n",
      "7.mhd\n",
      "16_swapXZ.mhd\n",
      "12_swapXY.mhd\n",
      "24.mhd\n",
      "19_swapXY.mhd\n",
      "18_swapXZ.mhd\n",
      "6.mhd\n",
      "1_swapXY.mhd\n",
      "7_swapXY.mhd\n",
      "6_swapXZ.mhd\n",
      "17_swapXY.mhd\n",
      "22_swapXY.mhd\n",
      "20_swapXY.mhd\n",
      "23.mhd\n",
      "9_swapXZ.mhd\n",
      "23_swapXZ.mhd\n",
      "24_swapXZ.mhd\n",
      "17_swapXZ.mhd\n",
      "9_swapXY.mhd\n",
      "18_swapXY.mhd\n",
      "15_swapXY.mhd\n",
      "10_swapXZ.mhd\n",
      "5_swapXY.mhd\n",
      "26_swapXY.mhd\n",
      "13_swapXY.mhd\n",
      "7_swapXZ.mhd\n",
      "16_swapXY.mhd\n",
      "26_swapXZ.mhd\n",
      "2_swapXZ.mhd\n",
      "14.mhd\n",
      "25_swapXZ.mhd\n",
      "6_swapXY.mhd\n",
      "21_swapXY.mhd\n",
      "17.mhd\n",
      "25_swapXY.mhd\n",
      "0_swapXY.mhd\n",
      "14_swapXY.mhd\n",
      "11_swapXY.mhd\n"
     ]
    },
    {
     "name": "stderr",
     "output_type": "stream",
     "text": [
      "\n",
      "  Warning in addKcSwKrsQs, FlowData.h:162:  KrQsss_[icy].back()[3]<=KcSwKrsQs[3]+1e-8\n"
     ]
    },
    {
     "name": "stdout",
     "output_type": "stream",
     "text": [
      "10_swapXY.mhd\n",
      "4.mhd\n",
      "20.mhd\n",
      "5_swapXZ.mhd\n",
      "8.mhd\n",
      "11.mhd\n",
      "18.mhd\n",
      "14_swapXZ.mhd\n",
      "13.mhd\n",
      "19.mhd\n",
      "19_swapXZ.mhd\n",
      "15_swapXZ.mhd\n",
      "2_swapXY.mhd\n",
      "13_swapXZ.mhd\n",
      "1.mhd\n",
      "3_swapXZ.mhd\n",
      "3.mhd\n",
      "Estaillades_1000c_3p31136um.mhd_\n",
      "21_swapXZ.mhd\n"
     ]
    },
    {
     "name": "stderr",
     "output_type": "stream",
     "text": [
      "\n",
      "\n",
      " Error in pnextract: \n",
      "   \n",
      "\n",
      "  Error in readFromHeader, /home/avdonin/pnflow-master_commit20210823/src/libvoxel/voxelImage.cpp:749:  \n",
      "   Unknown (header) file type: Estaillades_1000c_3p31136um.mhd_\n",
      "\n",
      " Aborting! \n",
      "\n"
     ]
    },
    {
     "name": "stdout",
     "output_type": "stream",
     "text": [
      "4_swapXY.mhd\n",
      "4_swapXZ.mhd\n",
      "1_swapXZ.mhd\n",
      "3_swapXY.mhd\n"
     ]
    }
   ],
   "source": [
    "path = '/home/sirius/00_ikt/data_parsing/carbonate'\n",
    "\n",
    "for root, dirs, files in os.walk(path):\n",
    "    for direc in dirs:\n",
    "        if direc != 'data':\n",
    "            new_path = os.path.join(root, direc)\n",
    "\n",
    "            for _, _, files in os.walk(new_path):\n",
    "                for file in files:\n",
    "#                         В папке с кернами по всем осям необходимо добавить 2 файла:\n",
    "#                                         - input_pnflow_original.dat\n",
    "#                                         - input_pnflow.dat - сюда для каждого керна записываются описательные параметры\n",
    "                    if ('.mhd' in file) and ('_VElems' not in file):\n",
    "                        print(file)\n",
    "                        filename = file.replace('.mhd', '')\n",
    "\n",
    "                        with open(new_path + '/input_pnflow_original.dat', 'r') as inp:\n",
    "                            llist = []\n",
    "                            for line in inp:\n",
    "                                if line.startswith('NETWORK'):\n",
    "                                    line = f'NETWORK  F {filename};   // the base name for of the network file, without _link1.dat, _link2, _pore1'\n",
    "                                if line.startswith('TITLE'):\n",
    "                                    line = f'TITLE  {filename};  // base name for the output files'\n",
    "                                llist.append(line)\n",
    "\n",
    "                        with open(new_path + '/input_pnflow.dat', 'w') as inp:\n",
    "                            inp.writelines(llist)\n",
    "#                             Запуск симуляции\n",
    "                        pnextract = os.system(f'cd {new_path}; /home/sirius/00_ikt/software/pnflow-master_commit20210823/bin/pnextract {file} > log.pnextract; /home/sirius/00_ikt/software/pnflow-master_commit20210823/bin/pnflow input_pnflow.dat > log.pnflow')    "
   ]
  },
  {
   "cell_type": "markdown",
   "id": "85ddb9b5",
   "metadata": {},
   "source": [
    "### Блок записи параметров симуляции (absolutePermeability, totalPorosity, "
   ]
  },
  {
   "cell_type": "code",
   "execution_count": 4,
   "id": "c1a2a891",
   "metadata": {},
   "outputs": [],
   "source": [
    "path = '/home/sirius/00_ikt/data_parsing/carbonate'\n",
    "params_dict = {}\n",
    "for root, dirs, files in os.walk(path):\n",
    "    for direc in dirs:\n",
    "        if direc != 'data':\n",
    "            new_path = os.path.join(root, direc)\n",
    "            for _, _, files in os.walk(new_path):\n",
    "                for file in files:\n",
    "                    if (file.endswith('pnflow.prt')) and ('_VElems' not in file):\n",
    "                        try:\n",
    "                            filename = file.replace('_pnflow.prt', '')\n",
    "                            prt_path = os.path.join(new_path, file)\n",
    "                            params = parse_params(prt_path)\n",
    "                            params_dict[prt_path] = params\n",
    "                        except UnboundLocalError:\n",
    "                            continue\n",
    "                            \n",
    "# Запись параметров в папку /parameters\n",
    "with open(f'{path}/parameters/parameters_carbonates.json', \"w\") as file:\n",
    "    json.dump(params_dict, file)"
   ]
  },
  {
   "cell_type": "markdown",
   "id": "9df606b3",
   "metadata": {},
   "source": [
    "### Блок парсинга параметров ОФП: а, b, krw_max, soi"
   ]
  },
  {
   "cell_type": "code",
   "execution_count": 11,
   "id": "5dd3073e",
   "metadata": {},
   "outputs": [
    {
     "name": "stderr",
     "output_type": "stream",
     "text": [
      "/tmp/ipykernel_1546339/3802550575.py:14: RuntimeWarning: divide by zero encountered in power\n",
      "  return krwMax*Se**a\n",
      "/tmp/ipykernel_1546339/3802550575.py:17: RuntimeWarning: invalid value encountered in power\n",
      "  return kroMax*(1-Se)**b\n",
      "/home/sirius/.local/lib/python3.8/site-packages/scipy/optimize/minpack.py:807: OptimizeWarning: Covariance of the parameters could not be estimated\n",
      "  warnings.warn('Covariance of the parameters could not be estimated',\n",
      "/tmp/ipykernel_1546339/3802550575.py:17: RuntimeWarning: divide by zero encountered in power\n",
      "  return kroMax*(1-Se)**b\n"
     ]
    }
   ],
   "source": [
    "path = '/home/sirius/00_ikt/data_parsing/carbonate'\n",
    "sns.set_theme()\n",
    "myEps=1e-6 # define small number for kro cut-off\n",
    "\n",
    "a_list = []\n",
    "b_list = []\n",
    "krw_list = []\n",
    "kro_list = []\n",
    "swc_list = []\n",
    "sor_list = []\n",
    "path_list = []\n",
    "\n",
    "def krw_func(Se,a):\n",
    "    return krwMax*Se**a\n",
    "\n",
    "def kro_func(Se,b):\n",
    "    return kroMax*(1-Se)**b\n",
    "\n",
    "for root, dirs, files in os.walk(path):\n",
    "        for direc in dirs:\n",
    "            if direc != 'data':\n",
    "                new_path = os.path.join(root, direc)\n",
    "                for _, _, files in os.walk(new_path):\n",
    "                    for file in files:\n",
    "                        if file.endswith('cycle2_imb.out'):\n",
    "                            filepath = new_path + f\"/{file}\"\n",
    "                            df = pd.read_csv(filepath, skiprows=3, sep='\\t', header=None)\n",
    "                            df.rename(columns={0: \"Sw\",1: \"Pc(Pa)\",2:\"Krw\",3:\"Kro\",4:\"RI\",5:\"CC\"},inplace=True)\n",
    "                            # cut off all points, where kro<myEps\n",
    "                            cutOffIndex=df.loc[df['Kro']<=1e-6].first_valid_index()\n",
    "                            if cutOffIndex != 0:\n",
    "                                path_list.append(filepath)\n",
    "                                df = df.iloc[0:cutOffIndex]\n",
    "                                Sor = 1 - df['Sw'].iloc[-1]\n",
    "                                sor_list.append(Sor)\n",
    "                                Swc = df[\"Sw\"][0]\n",
    "                                swc_list.append(Swc)\n",
    "                                krwMax = np.max(df[\"Krw\"])\n",
    "                                krw_list.append(krwMax)\n",
    "                                kroMax = np.max(df[\"Kro\"])\n",
    "                                kro_list.append(kroMax)\n",
    "                                df['Se'] = (df['Sw'] - Swc)/(1 - Sor - Swc)\n",
    "\n",
    "                                a, a_pcov = curve_fit(krw_func, df['Se'].values, df['Krw'].values,p0=1,maxfev=10000)\n",
    "                                b, b_pcov = curve_fit(kro_func, df['Se'].values, df['Kro'].values,p0=1,maxfev=10000)\n",
    "\n",
    "                                a_list.append(a)\n",
    "                                b_list.append(b)\n",
    "                            else:\n",
    "                                continue"
   ]
  },
  {
   "cell_type": "markdown",
   "id": "8b18223a",
   "metadata": {},
   "source": [
    "### Блок записи параметров ОФП"
   ]
  },
  {
   "cell_type": "code",
   "execution_count": 15,
   "id": "18737db1",
   "metadata": {},
   "outputs": [],
   "source": [
    "params = pd.DataFrame()\n",
    "params['path'] = path_list\n",
    "params['a'] = list(map(lambda x: x[0], a_list))\n",
    "params['b'] = list(map(lambda x: x[0], b_list))\n",
    "params['krw_max'] = krw_list\n",
    "params['kro_max'] = kro_list\n",
    "params['swc'] = swc_list\n",
    "params['sor'] = sor_list\n",
    "\n",
    "params.to_csv('/home/sirius/00_ikt/data_parsing/carbonate/parameters/ab_coeffs_carbonates.csv')"
   ]
  }
 ],
 "metadata": {
  "kernelspec": {
   "display_name": "Python 3 (ipykernel)",
   "language": "python",
   "name": "python3"
  },
  "language_info": {
   "codemirror_mode": {
    "name": "ipython",
    "version": 3
   },
   "file_extension": ".py",
   "mimetype": "text/x-python",
   "name": "python",
   "nbconvert_exporter": "python",
   "pygments_lexer": "ipython3",
   "version": "3.8.10"
  }
 },
 "nbformat": 4,
 "nbformat_minor": 5
}
